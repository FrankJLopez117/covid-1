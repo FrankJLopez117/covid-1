{
 "cells": [
  {
   "cell_type": "code",
   "execution_count": 3,
   "metadata": {},
   "outputs": [],
   "source": [
    "import matplotlib.pyplot as plt\n",
    "import numpy as np\n",
    "import seaborn as sns\n",
    "import pandas as pd\n",
    "\n",
    "%matplotlib inline"
   ]
  },
  {
   "cell_type": "markdown",
   "metadata": {},
   "source": [
    "<H1>COVID-19 DATA ANALYSIS</H1>"
   ]
  },
  {
   "cell_type": "markdown",
   "metadata": {},
   "source": [
    "The dashboard from hopkins it's great but it needs more drill down capabilites\n",
    "\n",
    "Plan:\n",
    "- Report all the cases, live update if possible\n",
    "- Narrow down analysis to US\n",
    "- Do a flow or kansey viz of spread path\n",
    "- Compare confirmed cases to SARS\n",
    "- Do a timelapse viz of infection / confirmed cases\n",
    "- Try to get a news feed"
   ]
  },
  {
   "cell_type": "markdown",
   "metadata": {},
   "source": [
    "<h3> Data Source</h3>"
   ]
  },
  {
   "cell_type": "markdown",
   "metadata": {},
   "source": [
    "https://www.kaggle.com/anjanatiha/corona-virus-time-series-dataset\n",
    "\n",
    "https://www.kaggle.com/imdevskp/sars-outbreak-2003-complete-dataset#sars_2003_complete_dataset_clean.csv"
   ]
  },
  {
   "cell_type": "markdown",
   "metadata": {},
   "source": [
    "<h3> Data Prep</h3>"
   ]
  },
  {
   "cell_type": "code",
   "execution_count": 8,
   "metadata": {},
   "outputs": [],
   "source": [
    "#import the covid-19 data\n",
    "corona_confirmed_ts_path = 'assets/corona-virus-time-series-dataset/COVID-19/csse_covid_19_data/csse_covid_19_time_series/time_series_19-covid-Confirmed.csv'\n",
    "corona_confirmed_ts = pd.read_csv(corona_confirmed_ts_path)\n",
    "\n",
    "corona_deaths_ts_path = 'assets/corona-virus-time-series-dataset/COVID-19/csse_covid_19_data/csse_covid_19_time_series/time_series_19-covid-Deaths.csv'\n",
    "corona_deaths_ts = pd.read_csv(corona_deaths_ts_path)\n",
    "\n",
    "corona_recovered_ts_path = 'assets/corona-virus-time-series-dataset/COVID-19/csse_covid_19_data/csse_covid_19_time_series/time_series_19-covid-Recovered.csv'\n",
    "corona_recovered_ts = pd.read_csv(corona_recovered_ts_path)"
   ]
  },
  {
   "cell_type": "code",
   "execution_count": 24,
   "metadata": {},
   "outputs": [
    {
     "data": {
      "text/html": [
       "<div>\n",
       "<style scoped>\n",
       "    .dataframe tbody tr th:only-of-type {\n",
       "        vertical-align: middle;\n",
       "    }\n",
       "\n",
       "    .dataframe tbody tr th {\n",
       "        vertical-align: top;\n",
       "    }\n",
       "\n",
       "    .dataframe thead th {\n",
       "        text-align: right;\n",
       "    }\n",
       "</style>\n",
       "<table border=\"1\" class=\"dataframe\">\n",
       "  <thead>\n",
       "    <tr style=\"text-align: right;\">\n",
       "      <th></th>\n",
       "      <th>Province/State</th>\n",
       "      <th>Country/Region</th>\n",
       "      <th>Lat</th>\n",
       "      <th>Long</th>\n",
       "      <th>Date</th>\n",
       "      <th>Confirmed</th>\n",
       "    </tr>\n",
       "  </thead>\n",
       "  <tbody>\n",
       "    <tr>\n",
       "      <td>0</td>\n",
       "      <td>Anhui</td>\n",
       "      <td>Mainland China</td>\n",
       "      <td>31.8257</td>\n",
       "      <td>117.2264</td>\n",
       "      <td>1/22/20</td>\n",
       "      <td>1</td>\n",
       "    </tr>\n",
       "    <tr>\n",
       "      <td>1</td>\n",
       "      <td>Beijing</td>\n",
       "      <td>Mainland China</td>\n",
       "      <td>40.1824</td>\n",
       "      <td>116.4142</td>\n",
       "      <td>1/22/20</td>\n",
       "      <td>14</td>\n",
       "    </tr>\n",
       "    <tr>\n",
       "      <td>2</td>\n",
       "      <td>Chongqing</td>\n",
       "      <td>Mainland China</td>\n",
       "      <td>30.0572</td>\n",
       "      <td>107.8740</td>\n",
       "      <td>1/22/20</td>\n",
       "      <td>6</td>\n",
       "    </tr>\n",
       "    <tr>\n",
       "      <td>3</td>\n",
       "      <td>Fujian</td>\n",
       "      <td>Mainland China</td>\n",
       "      <td>26.0789</td>\n",
       "      <td>117.9874</td>\n",
       "      <td>1/22/20</td>\n",
       "      <td>1</td>\n",
       "    </tr>\n",
       "    <tr>\n",
       "      <td>4</td>\n",
       "      <td>Gansu</td>\n",
       "      <td>Mainland China</td>\n",
       "      <td>36.0611</td>\n",
       "      <td>103.8343</td>\n",
       "      <td>1/22/20</td>\n",
       "      <td>0</td>\n",
       "    </tr>\n",
       "    <tr>\n",
       "      <td>...</td>\n",
       "      <td>...</td>\n",
       "      <td>...</td>\n",
       "      <td>...</td>\n",
       "      <td>...</td>\n",
       "      <td>...</td>\n",
       "      <td>...</td>\n",
       "    </tr>\n",
       "    <tr>\n",
       "      <td>10345</td>\n",
       "      <td>Pierce County, WA</td>\n",
       "      <td>US</td>\n",
       "      <td>47.0676</td>\n",
       "      <td>-122.1295</td>\n",
       "      <td>3/7/20</td>\n",
       "      <td>1</td>\n",
       "    </tr>\n",
       "    <tr>\n",
       "      <td>10346</td>\n",
       "      <td>Plymouth County, MA</td>\n",
       "      <td>US</td>\n",
       "      <td>42.1615</td>\n",
       "      <td>-70.7928</td>\n",
       "      <td>3/7/20</td>\n",
       "      <td>1</td>\n",
       "    </tr>\n",
       "    <tr>\n",
       "      <td>10347</td>\n",
       "      <td>Santa Cruz County, CA</td>\n",
       "      <td>US</td>\n",
       "      <td>36.9741</td>\n",
       "      <td>-122.0308</td>\n",
       "      <td>3/7/20</td>\n",
       "      <td>1</td>\n",
       "    </tr>\n",
       "    <tr>\n",
       "      <td>10348</td>\n",
       "      <td>Tulsa County, OK</td>\n",
       "      <td>US</td>\n",
       "      <td>36.1593</td>\n",
       "      <td>-95.9410</td>\n",
       "      <td>3/7/20</td>\n",
       "      <td>1</td>\n",
       "    </tr>\n",
       "    <tr>\n",
       "      <td>10349</td>\n",
       "      <td>Montgomery County, TX</td>\n",
       "      <td>US</td>\n",
       "      <td>30.3213</td>\n",
       "      <td>-95.4778</td>\n",
       "      <td>3/7/20</td>\n",
       "      <td>0</td>\n",
       "    </tr>\n",
       "  </tbody>\n",
       "</table>\n",
       "<p>10350 rows × 6 columns</p>\n",
       "</div>"
      ],
      "text/plain": [
       "              Province/State  Country/Region      Lat      Long     Date  \\\n",
       "0                      Anhui  Mainland China  31.8257  117.2264  1/22/20   \n",
       "1                    Beijing  Mainland China  40.1824  116.4142  1/22/20   \n",
       "2                  Chongqing  Mainland China  30.0572  107.8740  1/22/20   \n",
       "3                     Fujian  Mainland China  26.0789  117.9874  1/22/20   \n",
       "4                      Gansu  Mainland China  36.0611  103.8343  1/22/20   \n",
       "...                      ...             ...      ...       ...      ...   \n",
       "10345      Pierce County, WA              US  47.0676 -122.1295   3/7/20   \n",
       "10346    Plymouth County, MA              US  42.1615  -70.7928   3/7/20   \n",
       "10347  Santa Cruz County, CA              US  36.9741 -122.0308   3/7/20   \n",
       "10348       Tulsa County, OK              US  36.1593  -95.9410   3/7/20   \n",
       "10349  Montgomery County, TX              US  30.3213  -95.4778   3/7/20   \n",
       "\n",
       "       Confirmed  \n",
       "0              1  \n",
       "1             14  \n",
       "2              6  \n",
       "3              1  \n",
       "4              0  \n",
       "...          ...  \n",
       "10345          1  \n",
       "10346          1  \n",
       "10347          1  \n",
       "10348          1  \n",
       "10349          0  \n",
       "\n",
       "[10350 rows x 6 columns]"
      ]
     },
     "execution_count": 24,
     "metadata": {},
     "output_type": "execute_result"
    }
   ],
   "source": [
    "#transform covid-19 data into tabular data\n",
    "\n",
    "corona_confirmed = corona_confirmed_ts.melt([\"Province/State\", \"Country/Region\",\"Lat\",\"Long\"], var_name=\"Date\", value_name=\"Confirmed\")\n",
    "\n",
    "corona_deaths = corona_deaths_ts.melt([\"Province/State\", \"Country/Region\",\"Lat\",\"Long\"], var_name=\"Date\", value_name=\"Deaths\")\n",
    "\n",
    "corona_recovered = corona_recovered_ts.melt([\"Province/State\", \"Country/Region\",\"Lat\",\"Long\"], var_name=\"Date\", value_name=\"Recovered\")\n",
    "\n",
    "corona_confirmed"
   ]
  },
  {
   "cell_type": "code",
   "execution_count": 32,
   "metadata": {},
   "outputs": [],
   "source": [
    "df = pd.concat([corona_confirmed,corona_deaths], axis=1, sort=\"False\")\n",
    "df.to_csv(\"test.csv\")"
   ]
  }
 ],
 "metadata": {
  "kernelspec": {
   "display_name": "Python 3",
   "language": "python",
   "name": "python3"
  },
  "language_info": {
   "codemirror_mode": {
    "name": "ipython",
    "version": 3
   },
   "file_extension": ".py",
   "mimetype": "text/x-python",
   "name": "python",
   "nbconvert_exporter": "python",
   "pygments_lexer": "ipython3",
   "version": "3.7.4"
  }
 },
 "nbformat": 4,
 "nbformat_minor": 4
}
